{
 "cells": [
  {
   "cell_type": "markdown",
   "metadata": {
    "colab_type": "text",
    "id": "view-in-github"
   },
   "source": [
    "<a href=\"https://colab.research.google.com/github/j-chenn/COMP551_Project_1/blob/main/COMP551_Project_1.ipynb\" target=\"_parent\"><img src=\"https://colab.research.google.com/assets/colab-badge.svg\" alt=\"Open In Colab\"/></a>"
   ]
  },
  {
   "cell_type": "markdown",
   "metadata": {
    "id": "X8j0hsOoM03e"
   },
   "source": [
    "# Task 1: Acquire, pre-process and analyze the data\n",
    "## Acquiring both datasets:\n",
    "Dataset 1: [Search Trends](https://github.com/google-research/open-covid-19-data/blob/master/data/exports/search_trends_symptoms_dataset/README.mdhttps://)\n",
    "\n",
    "Dataset 2: [COVID hospitalization cases](https://github.com/google-research/open-covid-19-data)"
   ]
  },
  {
   "cell_type": "code",
   "execution_count": 1,
   "metadata": {
    "id": "eW-miWaPR0Yt"
   },
   "outputs": [],
   "source": [
    "# Imports\n",
    "\n",
    "import numpy as np\n",
    "import pandas as pd\n",
    "import warnings\n",
    "warnings.filterwarnings('ignore')\n"
   ]
  },
  {
   "cell_type": "code",
   "execution_count": 2,
   "metadata": {
    "id": "Dza6al16Mj74"
   },
   "outputs": [],
   "source": [
    "# the week of 08/24/2020 for the data collection\n",
    "# Load into pandas dataframes\n",
    "st_df = pd.read_csv('2020_US_weekly_symptoms_dataset.csv', low_memory=False)\n",
    "hp_df = pd.read_csv('aggregated_cc_by.csv', low_memory=False)"
   ]
  },
  {
   "cell_type": "markdown",
   "metadata": {
    "id": "elRSVGYhZi7L"
   },
   "source": [
    "## Preprocess the datasets"
   ]
  },
  {
   "cell_type": "markdown",
   "metadata": {},
   "source": [
    "## Target Weeks range: 2020-03-09 to 2020-09-21\n"
   ]
  },
  {
   "cell_type": "code",
   "execution_count": 3,
   "metadata": {
    "id": "JZ2ApGzrZgcZ"
   },
   "outputs": [],
   "source": [
    "# Search trends dataset Part I\n",
    "\n",
    "#TODO: Preprocessing, remove all symptoms that have all zero entries (clean COLUMN)\n",
    "st_df = st_df.dropna(how='all', axis=1)\n",
    "\n",
    "#Remove all rows not in the date of the week chosen (clean ROW)\n",
    "st_df = st_df[st_df['date'] >= '2020-03-04']\n",
    "\n",
    "nameList = list(st_df['sub_region_1']) #extract the region names from st_df database\n",
    "nameList = list(dict.fromkeys(nameList))  #remove duplicates"
   ]
  },
  {
   "cell_type": "code",
   "execution_count": 4,
   "metadata": {},
   "outputs": [],
   "source": [
    "# Hospitalization dataset Part I\n",
    "\n",
    "#TODO: Preprocessing\n",
    "\n",
    "#keep the hospitalization features and delete the rest  (clean COLUMN)\n",
    "hp_df = hp_df[['open_covid_region_code','region_name','date', 'hospitalized_new']]\n",
    "\n",
    "#select the regions that match the Search trends dataset (clean ROW)\n",
    "hp_df= hp_df[hp_df.region_name.isin(nameList)]\n",
    "\n",
    "#select the regions that have the valid date range (clean ROW)\n",
    "hp_df = hp_df[(hp_df['date'] >= '2020-03-09') & (hp_df['date'] <= '2020-09-27')]\n",
    "\n",
    "hp_df.reset_index(inplace = True) \n",
    "#print(hp_df.to_string())"
   ]
  },
  {
   "cell_type": "code",
   "execution_count": 5,
   "metadata": {},
   "outputs": [],
   "source": [
    "# Hospitalization dataset Part II\n",
    "# Here we want to group dates in the same week together as one date (the weekdate)\n",
    "hp_df1 = hp_df\n",
    "weekdate = '2020-03-09'\n",
    "\n",
    "#This loop will update all the dates row by row\n",
    "for i, n in hp_df1.iterrows():\n",
    "    if (i%7 == 0):\n",
    "        weekdate = n['date']  #first date of the week\n",
    "    else:\n",
    "        hp_df1.at[i,'date'] = weekdate"
   ]
  },
  {
   "cell_type": "code",
   "execution_count": 6,
   "metadata": {},
   "outputs": [
    {
     "name": "stdout",
     "output_type": "stream",
     "text": [
      "      region_name        date  hospitalized_new  index open_covid_region_code\n",
      "3          Hawaii  2020-03-09             802.0  87097                  US-HI\n",
      "4           Idaho  2020-03-09            1811.0  86678                  US-ID\n",
      "5           Maine  2020-03-09             445.0  84953                  US-ME\n",
      "6         Montana  2020-03-09             687.0  83701                  US-MT\n",
      "7        Nebraska  2020-03-09            2279.0  83071                  US-NE\n",
      "8   New Hampshire  2020-03-09             736.0  82860                  US-NH\n",
      "9      New Mexico  2020-03-09            3435.0  82413                  US-NM\n",
      "10   North Dakota  2020-03-09             815.0  83280                  US-ND\n",
      "11   Rhode Island  2020-03-09            2725.0  80738                  US-RI\n",
      "12   South Dakota  2020-03-09            1473.0  80311                  US-SD\n",
      "15        Wyoming  2020-03-09             262.0  78166                  US-WY\n"
     ]
    }
   ],
   "source": [
    "#sum up the hospitalized_vew for weekly\n",
    "# we are only using this hp_df2 to rid regions that have insignificant hospitalized data, such as 0 for total hospitalization\n",
    "def cleanRegions(df):\n",
    "    hp_df2 = df\n",
    "    f = dict.fromkeys(hp_df2.columns.difference(['region_name']), 'first')\n",
    "    f['hospitalized_new'] = sum\n",
    "    hp_df2 = hp_df2.groupby('region_name', as_index=False).agg(f)\n",
    "    hp_df2 = hp_df2[hp_df2.hospitalized_new != 0]\n",
    "    print(hp_df2.to_string())\n",
    "    tmplist = list(hp_df2['region_name']) \n",
    "    tmplist = list(dict.fromkeys(tmplist))  \n",
    "    return(tmplist)\n",
    "\n",
    "#this nameList will be a new regions list that removes region with total of 0 hospitalization value for all its dates\n",
    "nameList2 = cleanRegions(hp_df1)\n",
    "\n",
    "#filter hp_df1 based on the nameList2 (clean ROW)\n",
    "hp_df2= hp_df1[hp_df1.region_name.isin(nameList2)]"
   ]
  },
  {
   "cell_type": "code",
   "execution_count": 7,
   "metadata": {},
   "outputs": [],
   "source": [
    "# Hospitalization dataset Part III\n",
    "\n",
    "# merge 7 week rows into 1 and sum up the hospitalized_new data\n",
    "hp_df3 = hp_df2.groupby(['region_name','date'])['hospitalized_new'].apply(sum).reset_index()"
   ]
  },
  {
   "cell_type": "code",
   "execution_count": 8,
   "metadata": {},
   "outputs": [],
   "source": [
    "# Search trends dataset Part II\n",
    "\n",
    "# Drop unnecessary columns (open_covid region_code, country_region_code, country_region) (clean COLUMN)\n",
    "st_df1 = st_df.drop(st_df.columns[[0, 1, 2]], axis=1)\n",
    "\n",
    "# Filter st_df based on nameList2 (clean ROW)\n",
    "st_df1= st_df1[st_df.sub_region_1.isin(nameList2)]\n",
    "# print(st_df1)\n",
    "# print(st_df1.shape)\n",
    "\n",
    "#Filter columns so that every column have at least sp_num% of non-zero entries  (clean COLUMN)\n",
    "sp_num = 0.24  #optimized ratio without tremendous loss of dataset\n",
    "st_df2 = st_df1.dropna(thresh=sp_num*len(st_df), axis=1)\n",
    "# print(\"after.........\" )\n",
    "# print(st_df2)\n",
    "# print(st_df2.shape)"
   ]
  },
  {
   "cell_type": "markdown",
   "metadata": {},
   "source": [
    "## Merging the datasets "
   ]
  },
  {
   "cell_type": "code",
   "execution_count": 9,
   "metadata": {},
   "outputs": [
    {
     "name": "stdout",
     "output_type": "stream",
     "text": [
      "    sub_region_1 sub_region_1_code        date  symptom:Adrenal crisis  \\\n",
      "123       Hawaii             US-HI  2020-03-09                     NaN   \n",
      "124       Hawaii             US-HI  2020-03-16                     NaN   \n",
      "125       Hawaii             US-HI  2020-03-23                     NaN   \n",
      "126       Hawaii             US-HI  2020-03-30                     NaN   \n",
      "127       Hawaii             US-HI  2020-04-06                     NaN   \n",
      "..           ...               ...         ...                     ...   \n",
      "603      Wyoming             US-WY  2020-08-24                    4.42   \n",
      "604      Wyoming             US-WY  2020-08-31                    5.03   \n",
      "605      Wyoming             US-WY  2020-09-07                    3.36   \n",
      "606      Wyoming             US-WY  2020-09-14                    4.15   \n",
      "607      Wyoming             US-WY  2020-09-21                    5.64   \n",
      "\n",
      "     symptom:Allergic conjunctivitis  symptom:Angular cheilitis  \\\n",
      "123                              NaN                      32.41   \n",
      "124                              NaN                      28.68   \n",
      "125                              NaN                      31.62   \n",
      "126                              NaN                      39.39   \n",
      "127                              NaN                      36.26   \n",
      "..                               ...                        ...   \n",
      "603                             3.42                        NaN   \n",
      "604                              NaN                        NaN   \n",
      "605                             2.20                       2.25   \n",
      "606                              NaN                        NaN   \n",
      "607                              NaN                        NaN   \n",
      "\n",
      "     symptom:Aphonia  symptom:Asphyxia  symptom:Atheroma  \\\n",
      "123            64.27               NaN               NaN   \n",
      "124            50.26               NaN               NaN   \n",
      "125            36.37               NaN               NaN   \n",
      "126            28.45               NaN               NaN   \n",
      "127            23.07               NaN               NaN   \n",
      "..               ...               ...               ...   \n",
      "603              NaN              3.75              2.93   \n",
      "604              NaN              5.08              3.46   \n",
      "605              NaN              4.02               NaN   \n",
      "606              NaN              4.04              3.71   \n",
      "607              NaN              2.90              5.53   \n",
      "\n",
      "     symptom:Auditory hallucination  ...  symptom:Rumination  \\\n",
      "123                             NaN  ...                 NaN   \n",
      "124                             NaN  ...                 NaN   \n",
      "125                             NaN  ...                 NaN   \n",
      "126                             NaN  ...                 NaN   \n",
      "127                             NaN  ...                 NaN   \n",
      "..                              ...  ...                 ...   \n",
      "603                            4.53  ...                 NaN   \n",
      "604                             NaN  ...                2.85   \n",
      "605                            2.42  ...                2.86   \n",
      "606                            3.61  ...                3.88   \n",
      "607                            2.74  ...                2.24   \n",
      "\n",
      "     symptom:Shallow breathing  symptom:Stridor  symptom:Subdural hematoma  \\\n",
      "123                      49.58              NaN                        NaN   \n",
      "124                      83.77              NaN                        NaN   \n",
      "125                      73.87              NaN                        NaN   \n",
      "126                      60.19              NaN                        NaN   \n",
      "127                      44.50              NaN                        NaN   \n",
      "..                         ...              ...                        ...   \n",
      "603                        NaN              NaN                       2.82   \n",
      "604                       2.90              NaN                       2.85   \n",
      "605                       2.20             2.48                       5.23   \n",
      "606                        NaN             2.57                       3.22   \n",
      "607                        NaN             2.74                       4.32   \n",
      "\n",
      "     symptom:Tenderness  symptom:Trichoptilosis  symptom:Urinary urgency  \\\n",
      "123                 NaN                     NaN                      NaN   \n",
      "124                 NaN                     NaN                      NaN   \n",
      "125                 NaN                     NaN                      NaN   \n",
      "126                 NaN                     NaN                      NaN   \n",
      "127                 NaN                     NaN                      NaN   \n",
      "..                  ...                     ...                      ...   \n",
      "603                3.98                    2.26                      NaN   \n",
      "604                3.07                    2.57                      NaN   \n",
      "605                4.29                     NaN                      NaN   \n",
      "606                3.93                    3.06                     2.68   \n",
      "607                3.28                    3.17                      NaN   \n",
      "\n",
      "     symptom:Ventricular fibrillation  symptom:Viral pneumonia  \\\n",
      "123                               NaN                   100.00   \n",
      "124                               NaN                    88.60   \n",
      "125                               NaN                    70.51   \n",
      "126                               NaN                    46.78   \n",
      "127                               NaN                    28.57   \n",
      "..                                ...                      ...   \n",
      "603                              2.48                      NaN   \n",
      "604                               NaN                      NaN   \n",
      "605                               NaN                      NaN   \n",
      "606                               NaN                      NaN   \n",
      "607                              3.23                      NaN   \n",
      "\n",
      "     hospitalized_new  \n",
      "123               0.0  \n",
      "124               0.0  \n",
      "125              12.0  \n",
      "126               7.0  \n",
      "127              25.0  \n",
      "..                ...  \n",
      "603               8.0  \n",
      "604               4.0  \n",
      "605               9.0  \n",
      "606              15.0  \n",
      "607              19.0  \n",
      "\n",
      "[319 rows x 65 columns]\n"
     ]
    }
   ],
   "source": [
    "hpData = hp_df3[\"hospitalized_new\"]\n",
    "hpData = pd.Series(hpData)\n",
    "\n",
    "st_df2['hospitalized_new'] = hpData.values # Merging the data_set\n",
    "print(st_df2)"
   ]
  },
  {
   "cell_type": "code",
   "execution_count": 10,
   "metadata": {},
   "outputs": [],
   "source": [
    "# Convert merged dataset into a numpy array\n",
    "myarray = pd.DataFrame(st_df1).to_numpy()"
   ]
  },
  {
   "cell_type": "markdown",
   "metadata": {},
   "source": [
    "## End of Task 1"
   ]
  }
 ],
 "metadata": {
  "colab": {
   "authorship_tag": "ABX9TyN0fg+0w8Z9nRsJs3Ucih0p",
   "include_colab_link": true,
   "name": "COMP551_Project_1.ipynb",
   "provenance": []
  },
  "kernelspec": {
   "display_name": "Python 3",
   "language": "python",
   "name": "python3"
  },
  "language_info": {
   "codemirror_mode": {
    "name": "ipython",
    "version": 3
   },
   "file_extension": ".py",
   "mimetype": "text/x-python",
   "name": "python",
   "nbconvert_exporter": "python",
   "pygments_lexer": "ipython3",
   "version": "3.8.3"
  }
 },
 "nbformat": 4,
 "nbformat_minor": 1
}
