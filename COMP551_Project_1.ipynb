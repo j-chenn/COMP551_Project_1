{
 "cells": [
  {
   "cell_type": "markdown",
   "metadata": {
    "colab_type": "text",
    "id": "view-in-github"
   },
   "source": [
    "<a href=\"https://colab.research.google.com/github/j-chenn/COMP551_Project_1/blob/main/COMP551_Project_1.ipynb\" target=\"_parent\"><img src=\"https://colab.research.google.com/assets/colab-badge.svg\" alt=\"Open In Colab\"/></a>"
   ]
  },
  {
   "cell_type": "markdown",
   "metadata": {
    "id": "X8j0hsOoM03e"
   },
   "source": [
    "# Task 1: Acquire, pre-process and analyze the data\n",
    "## Acquiring both datasets:\n",
    "Dataset 1: [Search Trends](https://github.com/google-research/open-covid-19-data/blob/master/data/exports/search_trends_symptoms_dataset/README.mdhttps://)\n",
    "\n",
    "Dataset 2: [COVID hospitalization cases](https://github.com/google-research/open-covid-19-data)"
   ]
  },
  {
   "cell_type": "code",
   "execution_count": 1,
   "metadata": {
    "id": "eW-miWaPR0Yt"
   },
   "outputs": [],
   "source": [
    "# Imports\n",
    "\n",
    "import numpy as np\n",
    "import pandas as pd\n"
   ]
  },
  {
   "cell_type": "code",
   "execution_count": 2,
   "metadata": {
    "id": "Dza6al16Mj74"
   },
   "outputs": [],
   "source": [
    "# the week of 08/24/2020 for the data collection\n",
    "# Load into pandas dataframes\n",
    "st_df = pd.read_csv('2020_US_weekly_symptoms_dataset.csv', low_memory=False)\n",
    "hp_df = pd.read_csv('aggregated_cc_by.csv', low_memory=False)"
   ]
  },
  {
   "cell_type": "markdown",
   "metadata": {
    "id": "elRSVGYhZi7L"
   },
   "source": [
    "## Preprocess the datasets"
   ]
  },
  {
   "cell_type": "code",
   "execution_count": 3,
   "metadata": {
    "id": "JZ2ApGzrZgcZ"
   },
   "outputs": [],
   "source": [
    "# Search trends dataset Part I\n",
    "\n",
    "#TODO: Preprocessing, remove all symptoms that have all zero entries (clean COLUMN)\n",
    "st_df = st_df.dropna(how='all', axis=1)\n",
    "\n",
    "#Remove all rows not in the date of the week chosen (clean ROW)\n",
    "st_df = st_df[st_df['date']== '2020-08-24']\n",
    "\n",
    "#print(st_df)"
   ]
  },
  {
   "cell_type": "code",
   "execution_count": 4,
   "metadata": {},
   "outputs": [],
   "source": [
    "nameList = list(st_df['sub_region_1']) #extract the region names from st_df database\n",
    "nameList = list(dict.fromkeys(nameList))  #remove duplicates\n",
    "#print(nameList)"
   ]
  },
  {
   "cell_type": "code",
   "execution_count": 5,
   "metadata": {},
   "outputs": [],
   "source": [
    "# Hospitalization dataset Part I\n",
    "\n",
    "#TODO: Preprocessing\n",
    "\n",
    "#keep the hospitalization features and delete the rest  (clean COLUMN)\n",
    "hp_df = hp_df[['open_covid_region_code','region_name','date', 'hospitalized_new']]\n",
    "\n",
    "#select the regions that match the Search trends dataset (clean ROW)\n",
    "hp_df= hp_df[hp_df.region_name.isin(nameList)]\n",
    "\n",
    "#select the regions that have the valid date range (clean ROW)\n",
    "hp_df = hp_df[(hp_df['date'] >= '2020-08-24') & (hp_df['date'] <= '2020-08-30')]\n",
    "\n",
    "#print(hp_df)"
   ]
  },
  {
   "cell_type": "code",
   "execution_count": 6,
   "metadata": {},
   "outputs": [],
   "source": [
    "# Hospitalization dataset Part II\n",
    "\n",
    "# Clean out the regions that have missing data or new hospitalization\n",
    "\n",
    "def cleanRegion(mydf, threshold):\n",
    "    ''' The function cleans the regions that have values below or equal to 0 for hospitalized data.\n",
    "  \n",
    "        Parameters: \n",
    "            mydf (Dataframe): the dataframe to clean\n",
    "            threshold (int): minimum requirement for non-zero entries in the subset\n",
    "            For instance, threshold = 2 implies each region must contain at least 2 dates with non-zero entries.\n",
    "          \n",
    "        Returns: \n",
    "            nameList (list): a filtered list of region names which fulfill the threshold requirement.'''\n",
    "    \n",
    "    df1 = mydf[(mydf['hospitalized_new'] >= 1)]\n",
    "    df2 = df1.groupby('region_name').filter(lambda x : len(x)>=threshold) \n",
    "    nameList = list(df2['region_name']) \n",
    "    nameList = list(dict.fromkeys(nameList))\n",
    "    return nameList\n",
    "\n",
    "cleanNames = cleanRegion(hp_df, 3)\n",
    "hp_df= hp_df[hp_df.region_name.isin(cleanNames)]\n",
    "\n",
    "#print(hp_df.to_string())"
   ]
  },
  {
   "cell_type": "code",
   "execution_count": 7,
   "metadata": {},
   "outputs": [],
   "source": [
    "# Search trends dataset Part II\n",
    "\n",
    "#Update the st_df by this new filtered region names\n",
    "st_df= st_df[st_df.sub_region_1.isin(cleanNames)]\n",
    "\n",
    "#Filter columns so that every column have at least sp_num% of non-zero entries\n",
    "sp_num = 4/11  #4/11 is the optimized ration for cleaning, see report for relevant explanations\n",
    "st_df = st_df.dropna(thresh=sp_num*len(st_df), axis=1)\n",
    "\n",
    "#Further drop unnecessary columns\n",
    "st_df = st_df.drop(st_df.columns[[0, 1, 2]], axis=1)"
   ]
  },
  {
   "cell_type": "code",
   "execution_count": 8,
   "metadata": {},
   "outputs": [
    {
     "name": "stdout",
     "output_type": "stream",
     "text": [
      "      sub_region_1 sub_region_1_code        date  symptom:Adrenal crisis  \\\n",
      "147         Hawaii             US-HI  2020-08-24                     NaN   \n",
      "185          Idaho             US-ID  2020-08-24                     NaN   \n",
      "223          Maine             US-ME  2020-08-24                     NaN   \n",
      "261        Montana             US-MT  2020-08-24                   13.48   \n",
      "299   North Dakota             US-ND  2020-08-24                    8.53   \n",
      "337       Nebraska             US-NE  2020-08-24                     NaN   \n",
      "375  New Hampshire             US-NH  2020-08-24                     NaN   \n",
      "413     New Mexico             US-NM  2020-08-24                     NaN   \n",
      "451   Rhode Island             US-RI  2020-08-24                     NaN   \n",
      "489   South Dakota             US-SD  2020-08-24                   13.17   \n",
      "603        Wyoming             US-WY  2020-08-24                    4.42   \n",
      "\n",
      "     symptom:Ageusia  symptom:Allergic conjunctivitis  symptom:Amenorrhea  \\\n",
      "147              NaN                              NaN                 NaN   \n",
      "185              NaN                              NaN                 NaN   \n",
      "223              NaN                            15.16                 NaN   \n",
      "261            15.78                             5.88               19.24   \n",
      "299            13.94                              NaN               10.90   \n",
      "337              NaN                              NaN                 NaN   \n",
      "375              NaN                              NaN                 NaN   \n",
      "413              NaN                              NaN                 NaN   \n",
      "451              NaN                             7.53                 NaN   \n",
      "489            28.01                            10.60               10.71   \n",
      "603             3.31                             3.42                3.42   \n",
      "\n",
      "     symptom:Angular cheilitis  symptom:Anosmia  symptom:Aphonia  ...  \\\n",
      "147                      29.67              NaN            27.25  ...   \n",
      "185                        NaN              NaN            14.79  ...   \n",
      "223                      22.17              NaN             9.26  ...   \n",
      "261                       5.76            14.98             5.53  ...   \n",
      "299                        NaN            16.69              NaN  ...   \n",
      "337                        NaN              NaN            39.98  ...   \n",
      "375                      16.74              NaN             9.86  ...   \n",
      "413                        NaN              NaN            18.93  ...   \n",
      "451                      10.43              NaN             5.81  ...   \n",
      "489                       6.03            26.33             5.02  ...   \n",
      "603                        NaN             2.65              NaN  ...   \n",
      "\n",
      "     symptom:Sensitivity to sound  symptom:Shallow breathing  \\\n",
      "147                           NaN                      20.50   \n",
      "185                           NaN                        NaN   \n",
      "223                           NaN                      14.74   \n",
      "261                         14.06                       4.84   \n",
      "299                          5.21                       5.21   \n",
      "337                           NaN                        NaN   \n",
      "375                           NaN                      14.14   \n",
      "413                           NaN                        NaN   \n",
      "451                           NaN                       9.14   \n",
      "489                          7.70                       6.47   \n",
      "603                          3.87                        NaN   \n",
      "\n",
      "     symptom:Spasticity  symptom:Stridor  symptom:Subdural hematoma  \\\n",
      "147                 NaN              NaN                        NaN   \n",
      "185                 NaN              NaN                        NaN   \n",
      "223                 NaN            13.19                        NaN   \n",
      "261                8.99             7.26                      14.86   \n",
      "299                7.40             6.54                       6.64   \n",
      "337                 NaN              NaN                        NaN   \n",
      "375                 NaN              NaN                        NaN   \n",
      "413                 NaN              NaN                        NaN   \n",
      "451                 NaN             8.71                        NaN   \n",
      "489                8.81             6.03                      11.16   \n",
      "603                2.93              NaN                       2.82   \n",
      "\n",
      "     symptom:Tenderness  symptom:Trichoptilosis  symptom:Urinary urgency  \\\n",
      "147                 NaN                     NaN                      NaN   \n",
      "185                 NaN                     NaN                      NaN   \n",
      "223                 NaN                     NaN                    17.68   \n",
      "261               14.29                   10.60                    10.83   \n",
      "299               10.05                    5.59                     7.11   \n",
      "337                 NaN                     NaN                      NaN   \n",
      "375                 NaN                     NaN                    17.90   \n",
      "413                 NaN                     NaN                      NaN   \n",
      "451                 NaN                     NaN                    10.43   \n",
      "489               11.38                    9.04                     6.92   \n",
      "603                3.98                    2.26                      NaN   \n",
      "\n",
      "     symptom:Ventricular fibrillation  symptom:Viral pneumonia  \n",
      "147                               NaN                    11.33  \n",
      "185                               NaN                    14.23  \n",
      "223                             14.31                      NaN  \n",
      "261                             10.95                      NaN  \n",
      "299                              4.46                      NaN  \n",
      "337                               NaN                      NaN  \n",
      "375                             18.29                     5.19  \n",
      "413                               NaN                     9.67  \n",
      "451                             12.59                     4.62  \n",
      "489                              8.81                      NaN  \n",
      "603                              2.48                      NaN  \n",
      "\n",
      "[11 rows x 76 columns]\n",
      "      open_covid_region_code region_name        date  hospitalized_new\n",
      "78334                  US-WY     Wyoming  2020-08-24               4.0\n",
      "78335                  US-WY     Wyoming  2020-08-25               2.0\n",
      "78336                  US-WY     Wyoming  2020-08-26               0.0\n",
      "78337                  US-WY     Wyoming  2020-08-27               2.0\n",
      "78338                  US-WY     Wyoming  2020-08-28               0.0\n",
      "...                      ...         ...         ...               ...\n",
      "87267                  US-HI      Hawaii  2020-08-26               0.0\n",
      "87268                  US-HI      Hawaii  2020-08-27              25.0\n",
      "87269                  US-HI      Hawaii  2020-08-28              18.0\n",
      "87270                  US-HI      Hawaii  2020-08-29              23.0\n",
      "87271                  US-HI      Hawaii  2020-08-30              12.0\n",
      "\n",
      "[77 rows x 4 columns]\n"
     ]
    }
   ],
   "source": [
    "print(st_df)\n",
    "print(hp_df)"
   ]
  },
  {
   "cell_type": "code",
   "execution_count": 9,
   "metadata": {},
   "outputs": [],
   "source": [
    "# Hospitalization dataset Part III\n",
    "\n",
    "#truncate the dataframe by summing over the weekly hospitalized_new values\n",
    "f = dict.fromkeys(hp_df.columns.difference(['region_name']), 'first')\n",
    "f['hospitalized_new'] = sum\n",
    "\n",
    "hp_df1 = hp_df.groupby('region_name', as_index=False).agg(f)\n",
    "#print(hp_df1)\n",
    "#print(hp_df1.shape)"
   ]
  },
  {
   "cell_type": "markdown",
   "metadata": {},
   "source": [
    "## Merging the datasets "
   ]
  },
  {
   "cell_type": "code",
   "execution_count": 10,
   "metadata": {},
   "outputs": [],
   "source": [
    "hpData = hp_df1[\"hospitalized_new\"]\n",
    "hpData = pd.Series(hpData)\n",
    "\n",
    "st_df['hospitalized_new'] = hpData.values\n",
    "\n",
    "\n",
    "#new_df = pd.concat([st_df,hpData])\n",
    "\n",
    "\n",
    "#print(st_df)\n"
   ]
  },
  {
   "cell_type": "code",
   "execution_count": 11,
   "metadata": {},
   "outputs": [
    {
     "data": {
      "text/plain": [
       "array([['Hawaii', 'US-HI', '2020-08-24', nan, nan, nan, nan, 29.67, nan,\n",
       "        27.25, nan, nan, nan, nan, nan, nan, nan, nan, nan, nan, 22.39,\n",
       "        nan, nan, nan, nan, nan, nan, nan, nan, nan, nan, nan, nan, nan,\n",
       "        nan, nan, nan, nan, nan, nan, nan, nan, nan, 17.53, nan, nan,\n",
       "        nan, nan, nan, nan, nan, nan, nan, nan, nan, nan, nan, nan, nan,\n",
       "        nan, nan, nan, nan, nan, nan, nan, nan, 20.5, nan, nan, nan, nan,\n",
       "        nan, nan, nan, 11.33, 120.0],\n",
       "       ['Idaho', 'US-ID', '2020-08-24', nan, nan, nan, nan, nan, nan,\n",
       "        14.79, nan, nan, nan, nan, nan, nan, nan, nan, nan, nan, nan,\n",
       "        nan, nan, nan, nan, nan, nan, nan, nan, nan, nan, nan, nan, nan,\n",
       "        nan, nan, nan, nan, nan, nan, nan, nan, nan, nan, nan, nan, nan,\n",
       "        nan, nan, nan, nan, nan, nan, nan, nan, nan, nan, nan, nan, nan,\n",
       "        nan, nan, nan, nan, nan, nan, nan, nan, nan, nan, nan, nan, nan,\n",
       "        nan, nan, 14.23, 119.0],\n",
       "       ['Maine', 'US-ME', '2020-08-24', nan, nan, 15.16, nan, 22.17, nan,\n",
       "        9.26, nan, nan, nan, nan, nan, 15.16, nan, nan, nan, nan, 14.6,\n",
       "        nan, nan, nan, 27.09, nan, nan, nan, nan, nan, nan, nan, nan,\n",
       "        nan, 15.44, nan, nan, nan, nan, nan, nan, nan, nan, 15.86, nan,\n",
       "        nan, nan, 16.0, nan, nan, nan, nan, nan, nan, nan, nan, nan, nan,\n",
       "        nan, 13.47, nan, nan, 20.21, nan, nan, nan, nan, 14.74, nan,\n",
       "        13.19, nan, nan, nan, 17.68, 14.31, nan, 12.0],\n",
       "       ['Montana', 'US-MT', '2020-08-24', 13.48, 15.78, 5.88, 19.24,\n",
       "        5.76, 14.98, 5.53, 12.33, 13.71, 10.6, 17.17, 15.09, 8.76, 14.4,\n",
       "        14.63, 16.48, 11.64, 7.03, 11.98, 9.91, 13.37, 11.41, 14.86,\n",
       "        13.71, 7.49, 13.94, 13.83, 11.29, 17.63, 12.79, 10.71, 6.11,\n",
       "        14.29, 15.09, 15.67, 9.22, 16.59, 7.6, 9.91, 17.4, 6.22, 11.87,\n",
       "        12.9, 11.29, 7.03, 9.56, 13.94, 15.78, 12.21, 14.63, 14.75,\n",
       "        12.56, 16.13, 15.44, 12.1, 11.29, 6.68, 16.13, 11.41, 10.02,\n",
       "        13.37, 10.71, 13.13, 14.06, 4.84, 8.99, 7.26, 14.86, 14.29, 10.6,\n",
       "        10.83, 10.95, nan, 53.0],\n",
       "       ['North Dakota', 'US-ND', '2020-08-24', 8.53, 13.94, nan, 10.9,\n",
       "        nan, 16.69, nan, 18.2, 6.54, 4.36, 7.68, 7.21, nan, 9.29, 9.39,\n",
       "        12.99, 6.16, 4.93, 4.93, 8.25, 7.02, 7.58, 12.14, 9.86, nan,\n",
       "        6.83, 6.64, 7.4, 12.33, 4.74, 10.05, 4.55, 6.92, 9.77, 9.2, 6.26,\n",
       "        9.86, 4.74, 13.46, 5.97, 4.74, 10.24, 8.53, 7.3, 6.07, 6.26,\n",
       "        7.02, 18.49, 6.64, 12.89, 8.72, 9.2, 9.96, 6.83, 8.82, 6.26,\n",
       "        5.21, 9.48, 5.59, 5.97, 8.15, 7.58, 9.39, 5.21, 5.21, 7.4, 6.54,\n",
       "        6.64, 10.05, 5.59, 7.11, 4.46, nan, 85.0],\n",
       "       ['Nebraska', 'US-NE', '2020-08-24', nan, nan, nan, nan, nan, nan,\n",
       "        39.98, nan, nan, nan, nan, nan, nan, nan, nan, nan, nan, nan,\n",
       "        nan, nan, nan, nan, nan, nan, nan, nan, nan, nan, nan, nan, nan,\n",
       "        nan, nan, nan, nan, nan, nan, nan, nan, nan, nan, nan, nan, nan,\n",
       "        nan, nan, nan, nan, nan, nan, nan, nan, nan, nan, nan, nan, nan,\n",
       "        nan, nan, nan, nan, nan, nan, nan, nan, nan, nan, nan, nan, nan,\n",
       "        nan, nan, nan, 3.0],\n",
       "       ['New Hampshire', 'US-NH', '2020-08-24', nan, nan, nan, nan,\n",
       "        16.74, nan, 9.86, nan, nan, nan, nan, nan, 14.79, nan, nan, nan,\n",
       "        nan, 14.14, nan, nan, nan, 29.58, nan, nan, nan, nan, nan, nan,\n",
       "        nan, nan, nan, 8.56, nan, nan, nan, nan, nan, nan, nan, nan,\n",
       "        12.58, nan, nan, nan, 19.46, nan, nan, nan, nan, nan, nan, nan,\n",
       "        nan, nan, nan, nan, 11.16, nan, nan, 17.77, nan, nan, nan, nan,\n",
       "        14.14, nan, nan, nan, nan, nan, 17.9, 18.29, 5.19, 86.0],\n",
       "       ['New Mexico', 'US-NM', '2020-08-24', nan, nan, nan, nan, nan,\n",
       "        nan, 18.93, nan, nan, nan, nan, nan, nan, nan, nan, nan, nan,\n",
       "        nan, nan, nan, nan, nan, nan, nan, nan, nan, nan, nan, nan, nan,\n",
       "        nan, nan, nan, nan, nan, nan, nan, nan, nan, nan, nan, nan, nan,\n",
       "        nan, nan, nan, nan, nan, nan, nan, nan, nan, nan, nan, nan, nan,\n",
       "        nan, nan, nan, nan, nan, nan, nan, nan, nan, nan, nan, nan, nan,\n",
       "        nan, nan, nan, 9.67, 53.0],\n",
       "       ['Rhode Island', 'US-RI', '2020-08-24', nan, nan, 7.53, nan,\n",
       "        10.43, nan, 5.81, nan, nan, 13.66, nan, nan, 9.25, nan, nan, nan,\n",
       "        15.92, 10.54, 17.86, nan, 14.74, 14.95, nan, nan, 15.38, nan,\n",
       "        nan, nan, nan, nan, nan, 10.22, nan, nan, nan, nan, nan, nan,\n",
       "        nan, nan, 8.28, nan, nan, nan, 14.09, 15.7, nan, nan, nan, nan,\n",
       "        nan, nan, nan, nan, nan, nan, 8.71, nan, 13.88, 13.02, nan, nan,\n",
       "        20.11, nan, 9.14, nan, 8.71, nan, nan, nan, 10.43, 12.59, 4.62,\n",
       "        59.0],\n",
       "       ['South Dakota', 'US-SD', '2020-08-24', 13.17, 28.01, 10.6, 10.71,\n",
       "        6.03, 26.33, 5.02, 10.15, 8.37, 7.59, 8.26, 8.7, 6.47, 12.39,\n",
       "        13.84, 12.72, 8.26, 7.37, 9.37, 8.93, 7.25, 8.7, 14.95, 10.49,\n",
       "        8.81, 9.48, 9.15, 9.93, 11.16, 10.6, 8.37, nan, 9.04, 11.94,\n",
       "        13.84, 7.7, 14.51, 6.47, 11.16, 10.15, 4.8, 9.71, 16.74, 10.04,\n",
       "        7.48, 9.04, 9.37, 10.49, 10.38, 11.94, 10.27, 8.03, 10.82, 10.71,\n",
       "        11.94, 6.47, 5.58, 10.82, 7.14, 7.92, 8.03, 7.7, 8.48, 7.7, 6.47,\n",
       "        8.81, 6.03, 11.16, 11.38, 9.04, 6.92, 8.81, nan, 58.0],\n",
       "       ['Wyoming', 'US-WY', '2020-08-24', 4.42, 3.31, 3.42, 3.42, nan,\n",
       "        2.65, nan, 3.75, 2.93, 4.53, 5.08, 3.04, 2.54, 3.42, 3.7, 3.42,\n",
       "        3.31, nan, 2.76, 2.93, 2.87, 3.37, 4.09, 3.26, 2.37, 4.42, 2.43,\n",
       "        4.09, 6.24, 4.47, 2.76, nan, 2.54, 4.64, 3.92, 3.59, 3.92, 2.32,\n",
       "        3.98, 3.75, nan, 3.92, 3.15, 3.64, 2.6, nan, 4.36, 3.59, 3.48,\n",
       "        3.98, 3.37, 2.93, 2.93, 2.48, 2.32, 2.54, 2.37, 4.31, 3.92, nan,\n",
       "        3.2, 4.14, nan, 3.87, nan, 2.93, nan, 2.82, 3.98, 2.26, nan,\n",
       "        2.48, nan, 8.0]], dtype=object)"
      ]
     },
     "execution_count": 11,
     "metadata": {},
     "output_type": "execute_result"
    }
   ],
   "source": [
    "pd.DataFrame(st_df).to_numpy()"
   ]
  },
  {
   "cell_type": "markdown",
   "metadata": {},
   "source": [
    "## End of Task 1"
   ]
  },
  {
   "cell_type": "code",
   "execution_count": null,
   "metadata": {},
   "outputs": [],
   "source": []
  },
  {
   "cell_type": "code",
   "execution_count": null,
   "metadata": {},
   "outputs": [],
   "source": []
  }
 ],
 "metadata": {
  "colab": {
   "authorship_tag": "ABX9TyN0fg+0w8Z9nRsJs3Ucih0p",
   "include_colab_link": true,
   "name": "COMP551_Project_1.ipynb",
   "provenance": []
  },
  "kernelspec": {
   "display_name": "Python 3",
   "language": "python",
   "name": "python3"
  },
  "language_info": {
   "codemirror_mode": {
    "name": "ipython",
    "version": 3
   },
   "file_extension": ".py",
   "mimetype": "text/x-python",
   "name": "python",
   "nbconvert_exporter": "python",
   "pygments_lexer": "ipython3",
   "version": "3.8.3"
  }
 },
 "nbformat": 4,
 "nbformat_minor": 1
}
